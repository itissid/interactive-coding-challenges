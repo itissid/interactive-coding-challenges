{
 "cells": [
  {
   "cell_type": "markdown",
   "metadata": {
    "deletable": true,
    "editable": true
   },
   "source": [
    "This notebook was prepared by [Sid](https://github.com/itissid). Source and license info is available on [Github](https://github.com/donnemartin/interactive-coding-challenges)."
   ]
  },
  {
   "cell_type": "markdown",
   "metadata": {
    "deletable": true,
    "editable": true
   },
   "source": [
    "# Challenge Notebook"
   ]
  },
  {
   "cell_type": "markdown",
   "metadata": {
    "deletable": true,
    "editable": true
   },
   "source": [
    "## Problem: Find all valid combinations of n-pairs of parentheses.\n",
    "\n",
    "* [Constraints](#Constraints)\n",
    "* [Test Cases](#Test-Cases)\n",
    "* [Algorithm](#Algorithm)\n",
    "* [Code](#Code)\n",
    "* [Unit Test](#Unit-Test)\n",
    "* [Solution Notebook](#Solution-Notebook)"
   ]
  },
  {
   "cell_type": "markdown",
   "metadata": {
    "deletable": true,
    "editable": true
   },
   "source": [
    "## Constraints\n",
    "\n",
    "* Is the input containing weights, values and a target Knapsack Weight W?\n",
    "    * Yes\n",
    "* Can we assume the inputs are valid?\n",
    "    * Yes\n",
    "* Is the output an integer?\n",
    "    * Yes\n",
    "* Are the weights and values positive?\n",
    "    * Yes\n",
    "* Can we assume this fits memory?\n",
    "    * Yes"
   ]
  },
  {
   "cell_type": "markdown",
   "metadata": {
    "deletable": true,
    "editable": true
   },
   "source": [
    "## Test Cases\n",
    "\n",
    "<pre>\n",
    "* None, None, 4 -> Exception\n",
    "* None, [1, 4, 4], None -> Exception\n",
    "* Given wt = [2,3,5,11], vals = [1,4,2,8] and W = 6,  Output = 15\n",
    "</pre>"
   ]
  },
  {
   "cell_type": "markdown",
   "metadata": {
    "deletable": true,
    "editable": true
   },
   "source": [
    "## Algorithm\n",
    "\n",
    "Refer to the [Solution Notebook](http://nbviewer.ipython.org/github/itissid/interactive-coding-challenges/blob/master/recursion_dynamic/n_pairs_parentheses/knapsack_solution.ipynb).  If you are stuck and need a hint, the solution notebook's algorithm discussion might be a good place to start."
   ]
  },
  {
   "cell_type": "markdown",
   "metadata": {
    "deletable": true,
    "editable": true
   },
   "source": [
    "## Code"
   ]
  },
  {
   "cell_type": "code",
   "execution_count": 22,
   "metadata": {
    "collapsed": true,
    "deletable": true,
    "editable": true
   },
   "outputs": [],
   "source": [
    "class Knapsack(object):\n",
    "\n",
    "    def find_max_value(self, wt, vals, W):\n",
    "        if not wt or not vals or W < 0 or W is None:\n",
    "            raise ValueError(\"Weight or values can't be negative\")\n",
    "        if W == 0:\n",
    "            return 0\n",
    "        # TODO: extra validation on values of wt and vals.\n",
    "        \n",
    "        m = [0]*(W+1) # TODO: Place bounds on the size of this array.\n",
    "        for w in range(1, W+1): \n",
    "            for i, w_i in enumerate(wt):\n",
    "                if w_i <= w:\n",
    "                    m[w] = max(m[w], m[w-w_i] + vals[i])\n",
    "        return m[-1]"
   ]
  },
  {
   "cell_type": "markdown",
   "metadata": {
    "deletable": true,
    "editable": true
   },
   "source": [
    "## Unit Test"
   ]
  },
  {
   "cell_type": "code",
   "execution_count": 26,
   "metadata": {
    "collapsed": false,
    "deletable": true,
    "editable": true
   },
   "outputs": [
    {
     "name": "stdout",
     "output_type": "stream",
     "text": [
      "Success: test_pair_parentheses\n"
     ]
    }
   ],
   "source": [
    "# %load test_n_pairs_parentheses.py\n",
    "from nose.tools import assert_equal, assert_raises\n",
    "\n",
    "\n",
    "class TestKnapsack(object):\n",
    "\n",
    "    def test_knapsack(self):\n",
    "        k = Knapsack()\n",
    "        assert_raises(ValueError, k.find_max_value, None, None, 0)\n",
    "        assert_equal(20, k.find_max_value(wt=[1,4,2,8], vals=[2,3,5,11], W=8))\n",
    "        assert_equal(17, k.find_max_value(wt=[1,4,2,8], vals=[2,3,5,11], W=7))\n",
    "        assert_equal(14, k.find_max_value(wt=[1], vals=[2], W=7))\n",
    "        print('Success: test_pair_parentheses')\n",
    "\n",
    "\n",
    "def main():\n",
    "    test = TestKnapsack()\n",
    "    test.test_knapsack()\n",
    "\n",
    "\n",
    "if __name__ == '__main__':\n",
    "    main()\n"
   ]
  },
  {
   "cell_type": "markdown",
   "metadata": {
    "deletable": true,
    "editable": true
   },
   "source": [
    "## Solution Notebook\n",
    "\n",
    "Review the [Solution Notebook](http://nbviewer.ipython.org/github/itissid/interactive-coding-challenges/blob/master/recursion_dynamic/knapsack/knapsack.ipynb) for a discussion on algorithms and code solutions."
   ]
  },
  {
   "cell_type": "code",
   "execution_count": null,
   "metadata": {
    "collapsed": true
   },
   "outputs": [],
   "source": []
  }
 ],
 "metadata": {
  "kernelspec": {
   "display_name": "Python 3",
   "language": "python",
   "name": "python3"
  },
  "language_info": {
   "codemirror_mode": {
    "name": "ipython",
    "version": 3
   },
   "file_extension": ".py",
   "mimetype": "text/x-python",
   "name": "python",
   "nbconvert_exporter": "python",
   "pygments_lexer": "ipython3",
   "version": "3.6.0"
  }
 },
 "nbformat": 4,
 "nbformat_minor": 0
}
